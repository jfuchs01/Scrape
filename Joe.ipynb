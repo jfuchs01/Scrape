{
 "cells": [
  {
   "cell_type": "code",
   "execution_count": 1,
   "id": "1d841d67",
   "metadata": {},
   "outputs": [
    {
     "name": "stdout",
     "output_type": "stream",
     "text": [
      "abca3b3\n",
      "abcd\n"
     ]
    }
   ],
   "source": [
    "def compress_message(msg):\n",
    "    compressed_msg = \"\"\n",
    "    count = 1\n",
    "\n",
    "    for i in range(1, len(msg)):\n",
    "        if msg[i] == msg[i - 1]:\n",
    "            count += 1\n",
    "        else:\n",
    "            if count > 1:\n",
    "                compressed_msg += msg[i - 1] + str(count)\n",
    "            else:\n",
    "                compressed_msg += msg[i - 1]\n",
    "            count = 1\n",
    "\n",
    "    # Handle the last character or the case where the string has only one character\n",
    "    if count > 1:\n",
    "        compressed_msg += msg[-1] + str(count)\n",
    "    else:\n",
    "        compressed_msg += msg[-1]\n",
    "\n",
    "    return compressed_msg\n",
    "\n",
    "# Sample Input and Output\n",
    "print(compress_message(\"abcaaabbb\"))  # Output: abca3b3\n",
    "print(compress_message(\"abcd\"))      # Output: abcd\n"
   ]
  }
 ],
 "metadata": {
  "kernelspec": {
   "display_name": "Python 3 (ipykernel)",
   "language": "python",
   "name": "python3"
  },
  "language_info": {
   "codemirror_mode": {
    "name": "ipython",
    "version": 3
   },
   "file_extension": ".py",
   "mimetype": "text/x-python",
   "name": "python",
   "nbconvert_exporter": "python",
   "pygments_lexer": "ipython3",
   "version": "3.9.12"
  }
 },
 "nbformat": 4,
 "nbformat_minor": 5
}
