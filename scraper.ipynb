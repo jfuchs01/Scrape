{
  "nbformat": 4,
  "nbformat_minor": 0,
  "metadata": {
    "colab": {
      "provenance": []
    },
    "kernelspec": {
      "name": "python3",
      "display_name": "Python 3"
    },
    "language_info": {
      "name": "python"
    }
  },
  "cells": [
    {
      "cell_type": "code",
      "source": [
        "import requests\n",
        "from bs4 import BeautifulSoup as bs\n",
        "import os"
      ],
      "metadata": {
        "id": "-ZNnaWh7se4P"
      },
      "execution_count": 19,
      "outputs": []
    },
    {
      "cell_type": "code",
      "execution_count": 1,
      "metadata": {
        "colab": {
          "base_uri": "https://localhost:8080/"
        },
        "id": "wray1haOr7Dz",
        "outputId": "1a0a810b-7e56-4be0-b800-755a6831fe76"
      },
      "outputs": [
        {
          "output_type": "stream",
          "name": "stdout",
          "text": [
            "Mounted at /content/drive\n"
          ]
        }
      ],
      "source": [
        "from google.colab import drive\n",
        "drive.mount('/content/drive')\n"
      ]
    },
    {
      "cell_type": "code",
      "source": [
        "base_url = 'https://www.cs.stonybrook.edu'\n",
        "faculty_url = f'{base_url}/people/faculty'"
      ],
      "metadata": {
        "id": "x0xkS0FYsPXy"
      },
      "execution_count": 2,
      "outputs": []
    },
    {
      "cell_type": "code",
      "source": [
        "# Send an HTTP GET request to fetch the faculty webpage\n",
        "response = requests.get(faculty_url)"
      ],
      "metadata": {
        "id": "X45ueONCsXEo"
      },
      "execution_count": 5,
      "outputs": []
    },
    {
      "cell_type": "code",
      "source": [
        "\n",
        "bio_url = []\n"
      ],
      "metadata": {
        "id": "45s42g5wsijv"
      },
      "execution_count": 8,
      "outputs": []
    },
    {
      "cell_type": "code",
      "source": [
        "# Check if the request was successful\n",
        "if response.status_code == 200:\n",
        "    # Parse the HTML content using BeautifulSoup\n",
        "    soup = BeautifulSoup(response.content, 'html.parser')\n",
        "\n",
        "    # Find all the faculty profile URLs\n",
        "    faculty_links = soup.select('div.views-field-title a[href^=\"/people/faculty/\"]')\n",
        "\n",
        "    # Extract the URLs from the anchor tags\n",
        "    faculty_urls = [f\"{base_url}{faculty_link['href']}\" for faculty_link in faculty_links]\n",
        "\n",
        "    # Add the faculty profile URLs to the bio_urls list\n",
        "    bio_url.extend(faculty_urls)\n",
        "\n",
        "     # Save the faculty profile URLs to a text file in your Google Drive\n",
        "    file_path = '/content/drive/My Drive/bio_url.txt'\n",
        "    with open(file_path, 'w') as file:\n",
        "        for url in bio_url:\n",
        "            file.write(url + '\\n')\n",
        "\n",
        "    print(f\"Faculty profile URLs have been saved to {file_path} in your Google Drive.\")\n",
        "else:\n",
        "    print(f\"Failed. Status code: {response.status_code}\")"
      ],
      "metadata": {
        "colab": {
          "base_uri": "https://localhost:8080/"
        },
        "id": "2hOl9PGAstbK",
        "outputId": "da4dd141-3503-4626-80b0-02442f260bb2"
      },
      "execution_count": 9,
      "outputs": [
        {
          "output_type": "stream",
          "name": "stdout",
          "text": [
            "Faculty profile URLs have been saved to /content/drive/My Drive/bio_url.txt in your Google Drive.\n"
          ]
        }
      ]
    },
    {
      "cell_type": "code",
      "source": [
        "def extract_teaching_summary(url):\n",
        "    response = requests.get(url)\n",
        "    if response.status_code == 200:\n",
        "        soup = BeautifulSoup(response.content, 'html.parser')\n",
        "\n",
        "        # Extract professor's name from the title element\n",
        "        title_element = soup.select_one('title')\n",
        "        if title_element:\n",
        "            title_text = title_element.text.strip()\n",
        "            professor_name = title_text.replace(\"Michael Bender | Department of Computer Science\", \"\").strip()\n",
        "        else:\n",
        "            professor_name = 'Professor Name Not Found'\n",
        "\n",
        "        # Extract teaching summary\n",
        "        teaching_summary_section = soup.select_one('div.field-name-field-teachingsummary div.field-item')\n",
        "        if teaching_summary_section:\n",
        "            summary = teaching_summary_section.get_text(strip=True)\n",
        "            return professor_name, summary\n",
        "    return None, None"
      ],
      "metadata": {
        "id": "XZ9-f50wtScb"
      },
      "execution_count": 11,
      "outputs": []
    },
    {
      "cell_type": "code",
      "source": [
        "# Send an HTTP GET request to fetch the faculty webpage\n",
        "response = requests.get(faculty_url)"
      ],
      "metadata": {
        "id": "vjZXQRH5tldU"
      },
      "execution_count": 12,
      "outputs": []
    },
    {
      "cell_type": "code",
      "source": [
        "courses = []"
      ],
      "metadata": {
        "id": "y1v5oBgKt8pS"
      },
      "execution_count": 14,
      "outputs": []
    },
    {
      "cell_type": "code",
      "source": [
        "if response.status_code == 200:\n",
        "    # Parse the HTML content using BeautifulSoup\n",
        "    soup = BeautifulSoup(response.content, 'html.parser')\n",
        "\n",
        "    # Find all the faculty profile URLs and names\n",
        "    faculty_profiles = soup.select('div.views-field-title')\n",
        "    for faculty_profile in faculty_profiles:\n",
        "        professor_name = faculty_profile.text.strip()\n",
        "        faculty_link = faculty_profile.select_one('a[href^=\"/people/faculty/\"]')\n",
        "        if faculty_link:\n",
        "            faculty_url = f\"{base_url}{faculty_link['href']}\"\n",
        "            teaching_summary = extract_teaching_summary(faculty_url)\n",
        "            if teaching_summary:\n",
        "                courses.append((professor_name, teaching_summary[1]))\n",
        "\n",
        "    # Save courses list to a text file in Google Drive\n",
        "    file_path = '/content/drive/My Drive/course_taught.txt'\n",
        "    with open(file_path, 'w') as file:\n",
        "        for professor, summary in courses:\n",
        "            file.write(f\"Professor: {professor}\\n\")\n",
        "            file.write(f\"Teaching Summary:\\n{summary}\\n\\n\")\n",
        "\n",
        "    print(\"Teaching summaries have been saved to course_taught.txt in your Google Drive.\")\n",
        "else:\n",
        "    print(f\"Failed. Status code: {response.status_code}\")\n"
      ],
      "metadata": {
        "colab": {
          "base_uri": "https://localhost:8080/"
        },
        "id": "j9k9rXlAtvBm",
        "outputId": "db85edf4-7a3e-40b7-87ce-3cc059c52d6b"
      },
      "execution_count": 15,
      "outputs": [
        {
          "output_type": "stream",
          "name": "stdout",
          "text": [
            "Teaching summaries have been saved to course_taught.txt in your Google Drive.\n"
          ]
        }
      ]
    },
    {
      "cell_type": "code",
      "source": [
        "bios = []\n",
        "bios = set()"
      ],
      "metadata": {
        "id": "0Ash_bJPuP2y"
      },
      "execution_count": 25,
      "outputs": []
    },
    {
      "cell_type": "code",
      "source": [
        "# Function to extract the biography from a faculty profile page\n",
        "def extract_biography(url):\n",
        "    response = requests.get(url)\n",
        "    if response.status_code == 200:\n",
        "        soup = bs(response.content, 'html.parser')\n",
        "        biography_section = soup.select_one('div.field-name-field-biography div.field-item')\n",
        "        if biography_section:\n",
        "            biography = biography_section.get_text(strip=True)\n",
        "            return biography\n",
        "    return None"
      ],
      "metadata": {
        "id": "UzHOo1NMuWH3"
      },
      "execution_count": 26,
      "outputs": []
    },
    {
      "cell_type": "code",
      "source": [
        "if response.status_code == 200:\n",
        "    soup = bs(response.content, 'html.parser')\n",
        "    faculty_links = soup.select('a[href^=\"/people/faculty\"]')\n",
        "\n",
        "    for faculty_link in faculty_links:\n",
        "        faculty_url = f\"{base_url}{faculty_link['href']}\"\n",
        "        biography = extract_biography(faculty_url)\n",
        "        if biography:\n",
        "            bios.add(biography)\n",
        "\n",
        "# Save the bios list to a file called bios.txt in Google Drive\n",
        "file_path = \"/content/drive/My Drive/bios.txt\"\n",
        "with open(file_path, 'w', encoding='utf-8') as file:\n",
        "    for bio in bios:\n",
        "        file.write(bio + \"\\n\")\n",
        "\n",
        "print(\"Biographies saved to bios.txt in Google Drive.\")"
      ],
      "metadata": {
        "colab": {
          "base_uri": "https://localhost:8080/"
        },
        "id": "Cj8JTmmvu5LS",
        "outputId": "1a1ce9b1-6928-478c-a4e7-52840a2e8995"
      },
      "execution_count": 28,
      "outputs": [
        {
          "output_type": "stream",
          "name": "stdout",
          "text": [
            "Biographies saved to bios.txt in Google Drive.\n"
          ]
        }
      ]
    },
    {
      "cell_type": "code",
      "source": [
        "bios"
      ],
      "metadata": {
        "colab": {
          "base_uri": "https://localhost:8080/"
        },
        "id": "LDymOI0-vRoj",
        "outputId": "dbe28d8f-7b31-4d53-b350-f4abf39fe623"
      },
      "execution_count": 29,
      "outputs": [
        {
          "output_type": "execute_result",
          "data": {
            "text/plain": [
              "{\"Adam Siepel is Professor in the Watson School of Biological Sciences and Chair of the Simons Center for Quantitative Biology at Cold Spring Harbor Laboratory. Siepel studied engineering at Cornell (1990-1994), then worked in software development for bioinformatics for several years in the late 1990s, before attending graduate school in Computer Science (M.S., University of New Mexico, 2001, and Ph.D., UC Santa Cruz, 2005). He was on the faculty of the Department of Biological Statistics and Computational Biology at Cornell from 2006 to 2014, where he taught courses in computational genomics and machine learning, directed Cornell's Ph.D. program in Computational Biology, and served as an associate director for the Cornell Center for Comparative and Population Genomics (3CPG). Siepel has also served on the editorial boards for Genome Research and PLoS Computational Biology, on review panels for the National Science Foundation and the National Institutes of Health, and on advisory committees for the National Human Genome Research Institute.\",\n",
              " 'Ahmad Esmaili obtained his M.S. in Computer Science from SUNY at Stony Brook.',\n",
              " 'Alexander Spirov received his Ph.D. from Irkutsk State University, Russia.',\n",
              " 'Allen Tannenbaumis affiliated with theDepartment of Applied Mathematics & Statistics\\u200b. Heobtained his Ph.D. from Harvard University.',\n",
              " 'Amir holds Ph.D. and M.S.E. in\\xa0 Computer Science and Engineering from University of Michigan. He got his B.Sc. degree in Computer Engineering from Sharif University of Technology.',\n",
              " 'An Assistant Professor of Music at Stony Brook University, Margaret Anne Schedel is a composer and cellist specializing in the creation and performance of ferociously interactive media. She is working towards a certificate in Deep Listening with Pauline Oliveros and serves as the musical director for Kinesthetech Sense. She sits on the boards of the 60×60 Dance, BEAM Foundation, EMFInstitute, ICMA, NWEAMO, and Organised Sound.',\n",
              " 'Andrew Schwartz received his PhD in Computer Science from the University of Central Florida in 2011 with research on acquiring lexical semantic knowledge from the Web. He then joined the University of Pennsylvania where he was a Postdoctoral Research Fellow and later Visiting Assistant Professor in Computer & Information Science. He is Lead Research Scientist for the World Well-Being Project, a multidisciplinary group of Computer Scientists and Psychologists studying physical and psychological well-being based on language in social media.',\n",
              " 'Anita Wasilewska received her Ph.D. in Mathematics from Warsaw University, Poland in 1975, and M.S. in Computer Science from Warsaw University, Poland in 1967.',\n",
              " 'Annie Liu a Professor of Computer Science at Stony Brook University.\\xa0 Shereceived her Ph.D. and M.S. from Cornell University, M.Eng. from TsinghuaUniversity, and B.S. from Peking University, all in Computer Science.',\n",
              " 'AnshulGandhi is affiliated with theSmart Energy Technologies Cluster\\u200b. Hecompleted his Ph.D. in 2013 from the Computer Science Department at Carnegie Mellon University, where he was advised by Prof. Mor Harchol-Balter. His thesis was on Dynamic Server Provisioning for Data Center Power Management. Anshul then spent an year as a Post Doctoral Researcher in the Cloud Optimization and Analytics group at the IBM T.J. Watson Research Center. He completed his undergraduate studies in 2007 from the Department of Computer Science and Engineering at Indian Institute of Technology, Kanpur.',\n",
              " 'Arie E. Kaufman is a Distinguished Professor and former Chair of the Department ofComputer Science, the Director of theCenter of Visual Computing (CVC), the Chief Scientist of theCenter of Excellence in Wireless and Information Technology (CEWIT), and a Distinguished Professor ofRadiologyattheState University of New York at Stony Brook.(SBU). He joined the faculty at SBU in 1985 andwas appointedChair in 1999. He also held posts at theHebrew University,Tel-Aviv University,Florida International University,Ben-Gurion University, andColumbia University.',\n",
              " 'Arthur J. Bernstein received his Ph.D. in Electrical Engineering from Columbia University in 1962.',\n",
              " 'Arthur Lee is the Chair of theDepartment of Computer Science at SUNY Korea. Hereceived the BS degree from the University of Utah, MS from \\xa0 \\xa0Stanford University, and PhD from the University of Utah all in\\xa0Computer Science. He has held academic appointments at Korea\\xa0\\xa0 \\xa0 \\xa0University (7 years, 2 years as Chair), University of Utah (5\\xa0\\xa0 years), and Claremont McKenna College (12 years, 2 years as \\xa0Chair). He has also worked in research labs and industry for over\\xa015 years combined (some while going to school and others while\\xa0\\xa0holding an academic appointment): Sandia National Laboratories as\\xa0an MTS, Xerox Palo Alto Research Center as a Research Staff\\xa0 \\xa0 \\xa0Member, Evans & Sutherland Computer Corp. as a Senior Software \\xa0Engineer, SAP Labs as a Development Expert. \\xa0His research has\\xa0 \\xa0 \\xa0been sponsored by government agencies and industry in Korea and USA over the years. He joined SUNY Korea in 2016.',\n",
              " 'Aruna\\xa0Balasubramanian\\xa0joined the computer science department at Stony Brook in spring 2015. Prior to that, shewas a post-doctoral fellow at the University of Washington in Seattle. She received her PhD from the University of Massachusetts, Amherst in February 2011. She completed her Masters degree at SUNY Buffalo.',\n",
              " 'Ayush is a Postdoctoral Research Fellow at Schepens Eye Research Institute of Mass Eye and Ear, Harvard Medical School, Boston, MA, USA, and Research Assistant Professor in Computer Science Department of Stony Brook University, NY, USA. I recieved my Ph.D. in Computer Science from Stony Brook University under supervision of Prof. Klaus Mueller in 2020.',\n",
              " 'Byungkon Kang completed his Ph.D. in Computer Science at KAIST after receiving his B.Sc. from UT Austin. Upon graduation, he became a full-time researcher at Samsung Advanced Institute of Technology, where he worked on medical image analysis and natural language understanding. After leaving Samsung, he held a research professor position at Ajou University before joining SUNY Korea.',\n",
              " 'C.R. Ramakrishnan received his Ph.D. in Computer Science from Stony Brook University in 1995, and M.Sc.(Tech) in Computer Science and M.Sc.(Hons) in Physics from Birla Institute of Technology and Science, Pilani, India in 1987.',\n",
              " 'Christopher Kane is a Ph.D. Candidate in the Department of Computer Science,\\xa0\\xa0Stony Brook University. He is also has a Ph.D. in Philosophy from Brown University.',\n",
              " 'Chuan Huang, Ph.D. received his B.S. in Mathematics (Computational and Information Sciences) in 2006 from University of Science and Technology of China (USTC), his PhD in\\xa0Mathematics (minor in Optical Sciences)\\xa0in 2012 from The University of Arizona. He conducted his PhD research in the Department of Radiology of The University of Arizona Medical Center on Magnetic Resonance Imaging. He joined the Center for Advanced Medical Imaging Sciences at Massachusetts General Hospital (MGH) and Harvard Medical School (HMS) in 2012 as a Research Fellow. He was later promoted to Assistant in Physics (MGH) and Instructor (HMS) in June 2014. In October 2014, he joined the faculty of Stony Brook University. He is now an Assistant Professor in Research Radiology and Psychiatry.',\n",
              " 'David Ferguson received his Ph.D. from University of California, Berkeley.',\n",
              " 'David Gu is an associate professor (with tenure) at the Department of Computer Science, Stony Brook University. He received his Ph.D degree from the Department of Computer Science, Harvard University in 2003 and B.S. degree from the Tsinghua University, Beijing, China in 1995.',\n",
              " 'David R. Smith received his Ph.D. from University of Wisconsin, Madison. He came to Stony Brook in 1966 and (with D. Tycko) established the computer science department in 1970. He was the chair of the department from 1986-1987.\\xa0While at Stony Brook he published in the areas of combinational switching functions, shift register sequences, experimental parallel computer & chip architectures, hardware description languages, and hardware synthesis.',\n",
              " 'David Scott Warren received his Ph.D. in Computer Science from the University of Michigan in 1979. He then joined the faculty at the University at Stony Brook where he is currently Leading Professor of Computer Science. He was recently elected a Fellow of the ACM. He was chairman of the Stony Brook CS Department from 1996-1999.',\n",
              " 'Dennis received his PhD\\xa0and MSc in Computer Science from University of Guelph, Canada, and his BSc in Computer Science from the Chinese University of Hong Kong. He currently holds a joint position as an Assistant Professor at SUNY Korea and a Research Assistant Professor position at Stony Brook University.\\xa0Before joining SUNY Korea, he was an Assistant Professor at Northwest Missouri State University. Before that, he was a Roncesvalles Postdoc Researcher at University of Guelph under the supervision of\\xa0Joe Sawada and Aaron Williams.',\n",
              " 'Dimitris Samaras earned his Ph.D. in Computer Science from University of Pennsylvania in 2001; M.S. in Computer Science from Northeastern University in 1994, and Diploma in Computer Engineering and Informatics from University of Patras, Greece in 1992.',\n",
              " 'Dongyoon Lee received the Ph.D. (2013) degree inComputer Science and Engineeringat theUniversity of Michigan, Ann Arborunder the guidance of Prof.Satish Narayanasamy. Before joining Stony Brook University, he worked as an assistant professor atVirginia Tech(2014-2019) and as an academic visitor in the next-generation middleware platforms department atIBM T. J. Watson Research Center(Fall 2013). Doonyoon is also interned in theoperating systems groupatMicrosoft Research - Redmond(Summer 2012); and in thesystems analysis and verification departmentatNEC Laboratories America(Summer 2011).',\n",
              " 'Dr. Borodin is well known for his research on computational methods and non-visual interfaces for improving Web Accessibility. Yevgen Borodin obtained his Ph.D. and M.S. in Computer Science from Stony Brook University in 2009 and 2005; B.Tech. in Web Development from Alfred State College of Technology in 2003.',\n",
              " 'Dr. Chapman is a Professor of Applied Mathematics and Statistics, and of Computer Science, at Stony Brook University, where she is affiliated with the Institute for Advanced Computational Science. She also directs Computer Science and Mathematics Research at Brookhaven National Laboratory.Dr. Chapman has performed research on parallel programming interfaces and the related implementation technology for over 20 years and has moreover engaged in efforts to develop community standards for parallel programming, including OpenMP, OpenACC and OpenSHMEM. Her research group created the state-of-the-art OpenUH compiler that enabled practical experimentation with parallel language extensions and the corresponding implementation techniques. The group also created a reference implementation of the library-based OpenSHMEM programming interface. Dr. Chapman has co-authored over 200 papers and two books. She obtained a B.Sc. with 1st Class Honours in Mathematics from the University of Canterbury and a Ph.D. in Computer Science from Queen’s University of Belfast.',\n",
              " 'Dr. Fusheng Wang received his Ph.D. in Computer Science from University of California, Los Angeles, and M.S. and B.S. in Engineering Physics from Tsinghua University, China. Prior to joining Stony Brook University, he was an assistant professor at Emory University. He was a research scientist at Siemens Corporate Research (Princeton, NJ) before joining Emory University.',\n",
              " 'Dr. Joel Saltz is a leader in research on advanced information technologies for large scale data science and biomedical/scientific research. He has developed innovative pathology informatics methods, including: the first published whole slide virtual microscope system; pioneering pathology computer-aided diagnosis techniques; and methods for decomposing pathology images into features and linking those features to cancer “omics”, response to treatment and outcome. He has broken new ground in big data through development of the filter-stream based DataCutter system, the map-reduce style Active Data Repository and the inspector-executor runtime compiler framework. He has also been an active contributor in clinical informatics, having developed predictive models for hospital readmissions, point of care laboratory testing quality assurance systems, decision support systems for electrophoresis interpretation and graphical user interfaces to support clinical data warehouse queries. Dr. Saltz has been a pioneer in establishing the field of biomedical informatics; he founded and built two highly successful departments of biomedical informatics, one at Ohio State University and one at Emory University. In 2013, he came to Stony Brook as Vice President for Clinical Informatics and Founding Department Chair of Biomedical Informatics – to create a living laboratory for biomedical informatics and to create a third unique biomedical informatics department dually housed in the School of Medicine and the College of Engineering. Dr. Saltz is trained both as a computer scientist and as a physician through the MSTP program at Duke University. He has deep experience in computer science, having served on the computer science faculties at Yale University and the University of Maryland. He completed his residency in clinical pathology at Johns Hopkins University and he is a practicing, board-certified clinical pathologist.',\n",
              " 'Dr. Kozakov research interests lie at the intersection of applied mathematics, physics and computational biology. He focuses on two main goals. The first is the development of mathematically elegant, computationally efficient and physically accurate algorithms for modeling macromolecular structure and function on the genome scale. The second is the application of novel methods to improving the understanding of biological problems and to the design of therapeutic molecules with desired biological and biomedical properties.',\n",
              " 'Erez Zadok \\u200bis affiliated with theSmart Energy Technologies Cluster\\u200b. He completed his Ph.D. in Computer Science from Columbia University in 2001. He directs theFile Systems and Storage Lab (FSL)at the CS department.',\n",
              " \"Esther Arkin received her B.S. in Mathematics, from Tel-Aviv University, Israel, 1981, and her M.S. and Ph.D. in Operations Research, Stanford University, August, in 1983 and 1986. Before joining Stony Brook's Applied Mathematics and Statistics department in 1991, she was a Visiting Assistant Professor, in the School of Operations Research and Industrial Engineering, Cornell University, and a Visiting Associate Professor, Department of Statistics and Operations Research, Tel-Aviv University, Israel (2/95-6/95).\",\n",
              " 'Eugene W. Stark earned his Ph.D. in Computer Science from Massachusetts Institute of Technology in 1984.',\n",
              " 'Fan Ye is an Associate Professor in theElectrical and Computer Engineering DepartmentatStony Brook University, also affiliated with theSmart Energy Techologies (SET Cluster). Before that he worked atIBM T.J. Watson Research Centeras a Research Staff Member since 2004.',\n",
              " 'Francesco Orabona\\xa0received his\\xa0PhD in University of Genoa. Hewas\\xa0a Senior Research Scientist at Yahoo Research NY. Previously, he was at the Toyota Technological Institute at Chicago, the University of Milan, and the IDIAP Research Institute.',\n",
              " 'Gregory J. Zelinsky earned his Ph.D. from Brown University in 1994.',\n",
              " 'Haibin Ling received B.S. and M.S. fromPeking Universityin 1997 and 2000, respectively, and Ph.D. from theUniversity of Marylandin 2006.\\xa0He serves as associate editors forIEEE Trans. on Pattern Analysis and Machine Intelligence (PAMI),Pattern Recognition (PR), andComputer Vision and Image Understanding (CVIU). He had also served or will serve as Area Chairs forCVPR 2014,CVPR 2016, andCVPR 2019.',\n",
              " 'Herbert L. Gelernter earned his Ph.D. from University of Rochester.',\n",
              " \"Hong Qin is a Full Professor (with tenure) of Computer Science in Department of Computer Science at State University of New York at Stony Brook (Stony Brook University), where he is also a member of SUNYSB's Center for Visual Computing. He received his B.S. (1986) degree and his M.S. degree (1989) in Computer Science from Peking University in Beijing, China. He received his Ph.D. (1995) degree in Computer Science from the University of Toronto. During 1989-1990, he was a research\\xa0scientist at North-China Institute of Computing Technologies. During 1990-1991, he was a Ph.D. candidate in Computer Science at the University of North Carolina at Chapel Hill. After he received his Ph.D. degree in Computer Science at the University of Toronto in September 1995, he was a research scientist in Department of Computer Science at the University of Toronto during September-December 1995. From December 1995 to 1997, he was an Assistant Professor of Computer\\xa0and Information Science and Engineering at the University of Florida. From September 1997 to July 2001, he was an Assistant Professor of Computer Science at State University of New York at Stony Brook. From August 2001 to July 2006, he was an Associate Professor (with tenure) at State University of New York at Stony Brook. He received the Honor Student Award from 1983 to 1986 and the Best Graduate Award in 1986 from Peking University. During his years at the University of Toronto (UofT), he received UofT Open Doctoral Fellowship. In 1997,\\xa0Professor Qin was awarded NSF CAREER Award from the National Science Foundation (NSF). In September 2000, Professor Qin was awarded a newly-established NSF Information Technology Research (ITR) grant. In December 2000, Professor Qin receivedHonda Initiation Grant Award. In February 2001, Professor Qin was selected as an Alfred P. Sloan Research Fellow bythe Sloan Foundation. In September 2003, Professor Qin was awarded another NSF ITR grant. In June 2005, Professor Qin served as the general Co-Chair for Computer Graphics International 2005 (CGI'2005), and he was also the organizing committee chair for Stony Brook Graphics Week which includes Computer Graphics International 2005 (CGI'2005), Point-Based Graphics 2005 (PBG'2005), and Volume Graphics 2005 (VG'2005), held on June 20-24, 2005 in SUNY Stony Brook. Currently, he is an associate editor for IEEE Transactions on Visualization and Computer Graphics (IEEE TVCG), and he is also on the editorial board of The Visual Computer (International Journal of Computer Graphics).\\xa0 He is the Conference Co-Chair for ACM Solid and Physical Modeling Symposium 2007 (to be held at Tsinghua University, Beijing, China). He will be chairingStony Brook Modeling Week (to be held in the week of June 2-6, 2008) in Stony Brook University\",\n",
              " 'I received the BS and PhD from the Department of Computer Science and Technology, Tsinghua University, Beijing, China, in the years 2008 and 2013, respectively. Before joining Stony Brook University, I was an Associate Professor of the Centre for Quantum Software and Information(QSI) at the University of Technology Sydney (UTS).',\n",
              " 'I.V. Ramakrishnan received his Ph.D in Computer Science from University of Texas at Austin in 1983.',\n",
              " 'Jack Heller received his Ph.D. from Polytechnic Institute of Brooklyn.',\n",
              " 'Jalaa Hoblos received her M.S. and Ph.D. in computer science from Kent State University. She completed her B.S. degree in Computer Science from the Lebanese University in Beirut, Lebanon. Prior to joining Stony Brook, Hoblos was a faculty member at Hiram College and later at Penn State University, Behrend College. Hoblos joined Stony Brook in 2022.',\n",
              " 'Jennifer Wong earned her Ph.D. in Computer Science from University of California Los Angeles in 2006, her M.S. and B.S. in Computer Science and Engineering from University of California, Los Angeles as well.',\n",
              " 'Jie Gao is an associate professor at the Department of Computer Science, Stony Brook University. She received her Ph.D degree from the Department of Computer Science, Stanford University in 2004 and B.S. degree from the Special Class for the Gifted Young at University of Science and Technology of China in 1999. She spent the academic year 2004-2005 at Center for the Mathematics of Information, California Institute of Technology.',\n",
              " 'Jihoon Ryoo joined the computer science department at SUNY Korea in fall 2017. He received his Ph.D. from Stony Brook University in summer 2017. He completed his Master and Bachelor degree in electrical engineering from Korea University.',\n",
              " 'Jing Chen is an Assistant Professor in the Department of Computer Science at Stony Brook University. She is an Affiliated Assistant Professor in the\\xa0Department of Economics and an affiliated member of the\\xa0Center for Game Theory. Before joining Stony Brook, she was a postdoctoral fellow in the\\xa0School of Mathematics\\xa0at the\\xa0Institute for Advanced Study, Princeton. She received her Ph.D. in Computer Science from Massachusetts Institute of Technology in 2012, M.E. and B.E. in Computer Science from Tsinghua University, China. Her main research interests are computational game theory, mechanism design, auctions, markets, and healthcare. She is also interested in algorithms and computational complexity.',\n",
              " 'Joseph Marino is a Postdoctoral Research Fellow. He received his Ph.D. in Computer Science from Stony Brook University in 2012. \\xa0He received his B.S. in Computer Science & Applied Mathematics and Statistics from Stony Brook University in 2006.',\n",
              " 'Joydeep Mitra is a Research Assistant Professor in the Department of Computer Science at Stony Brook University. He received his Ph.D. in Computer Science from Kansas State University. Before pursuing Ph.D., he was a software developer for Cognizant Technology Solutions.',\n",
              " 'Ker-I Ko received his Ph.D. in Computer and Information Science from the Ohio State University in 1979.',\n",
              " 'Klaus Mueller has a B.S. in Electrical Engineering from the Polytechnic University of Ulm, Germany, and an M.S. in Biomedical Engineering and a Ph.D. in Computer Science, both from The Ohio State University. Apart from his appointment at the Computer Science Department at Stony Brook University, he also holds adjunct faculty positions at the Biomedical Engineering Department and the Radiology Department, and he is an adjunct scientist at the Computational Science Center at Brookhaven National Laboratory. His research is sponsored by NSF (including the Career award in 2001), NIH, DOE, DHS, and private industry and research labs.',\n",
              " 'Larry Wittie received his Ph.D. and M.S. in Computer Science from the University of Wisconsin at Madison in 1973 and 1967, and his B.S. in Mathematics from the California Institute of Technology (CalTech) in 1966.',\n",
              " 'Leo Bachmair received his Ph.D. and M.S. in Computer Science from the University of Illinois at Urbana-Champaign, and Dipl.-Ing. in Applied Mathematics from the Johannes Kepler University, Linz, Austria.',\n",
              " 'Lori Scarlatos received her Ph.D. in Computer Science from the State University of New York at Stony Brook in 1993, M.S. with Distinction in Computer Science from Pratt Institute in 1984, and B.F.A. with Honors, Art & Design from Pratt Institute in 1982.',\n",
              " \"Martin received his Ph.D. in machine learning and signal processing in 2014 from the University of Toronto in Canada.\\xa0 Before joining the Department of Computer Science at Stony Brook University, Martin was a postdoctoral machine learning fellow working with Prof. Lincoln Stein at the Ontario Institute for Cancer Research (OICR). Martin's areas of expertise areVoice-based human-machine interface and auditory scene analysis.Developing fast and large-scale learning and inference methods for Bayesian networks.Cancer drug target prediction using large-scale machine learning analysis of genomic data and networks.Data Science and natural language processing\",\n",
              " \"Michael A. Bender is the David R. Smith Leading Scholar of Computer Science at Stony Brook University. Bender was Founder and Chief Scientist at Tokutek, Inc, an enterprise database company that was acquired by Percona in 2015. He has won several awards, including a Test-of-Time award, two Best Paper Awards, and five awards for graduate and undergraduate teaching. He was a member of the Sandia team that won the R&D 100 Award for scheduling in parallel computers. He has held Visiting Scientist positions at both MIT and King's College London.Bender received his A.B. in Applied Mathematics from Harvard University in 1992 and obtained a D.E.A. and Magistere in Computer Science from the École Normale Supérieure de Lyon, France in 1993. He completed a Ph.D. on Scheduling Algorithms from Harvard University in 1998.\",\n",
              " 'Michael Ferdman is an Associate Professor of Computer Science at Stony Brook University. He completed his Ph.D. at Carnegie Mellon University (CMU) under the supervision of Babak Falsafi. While completing his dissertation, he spent several years working remotely from Ecole Polytechnique Fédérale de Lausanne (EPFL).',\n",
              " 'Michael Kifer has his Ph.D. of Computer Science from Hebrew University of Jerusalem Israel in 1985 and M.S. of Mathematics from Moscow University of Russia in 1976.',\n",
              " 'Michael isalso with Google Brain\\'s \"Robotics at Google\" as a research scientist. Previously he was an assistant professor atIndiana University Bloomington, and was a staff researcher within the Robotics Section of the NASA\\'sJet Propulsion Laboratory(JPL). He received my Ph.D. from the University of Texas at Austin in 2008 and B.S. from Korea Advanced Institute of Science and Technology (KAIST) in 2004.',\n",
              " 'MichalisPolychronakisis affiliated with theNational Security Institute. Hereceived the B.Sc. (’03), M.Sc. (’05), and Ph.D.\\xa0(’09) degrees in Computer Science from the University of Crete, Greece,while working as a research assistant in the Distributed Computing SystemsLab at FORTH-ICS. Before joining Stony Brook, he was an Associate ResearchScientist at Columbia University.',\n",
              " 'Minh Hoai\\xa0Nguyen received a PhD in Robotics from Carnegie Mellon University and a Bachelor ofEngineering from the University of New South Wales. Before coming to Stony Brook, Minh Hoai was a post-doctoral research fellow with Andrew Zisserman\\xa0at Oxford University. He was also a Kurti\\xa0Junior Research Fellow at Brasenose\\xa0College.',\n",
              " 'Mitchell, Joseph S. B,earned his Ph.D. in 1986 from Stanford University.',\n",
              " 'Nick Nikiforakis \\u200bis affiliated with theNational Security Institute. He received his PhD in Computer Science from KU Leuven in Belgium. He received his MSc, in Parallel and Distributed Systems and BSc in Computer Science from the University of Crete, Greece.',\n",
              " 'Nilanjan is the director of theInteracting Robotic Systems Laboratory. Previously, he was a Project Scientist and Postdoc atThe Robotics Institute,Carnegie Mellon University. IHe obtained my PhD from theDepartment of Computer ScienceatRensselaer Polytechnic Institute.',\n",
              " 'Niranjan\\xa0Balasubramanian \\u200bis affiliated with theDepartment of Biomedical InformaticsandCenter of Excellence in Wireless & Information Technology (CEWIT). He received his PhD from University of Massachusetts, Amherst, where he was a part of the Center for Intelligent Information Retrieval (CIIR). Before he started his PhD studies, he was a software engineer at the Center For Natural Language Processing (CNLP) at Syracuse University. He completed his Masters degree in Computer Science at the University of Buffalo in 2003. Prior to joining the computer science department at Stony Brook in spring 2015, Dr. Balasubramanian was a post-doctoral researcher in the Turing Center at the University of Washington in Seattle.',\n",
              " 'Omar was a post-doctoral research associate at Cylab, Carnegie Mellon University (Host: Prof. Anupam Datta) and Purdue University (Host: Prof. Ninghui Li). He received his Ph.D. in Computer Science from the University of Texas at San Antonio under the supervision of Prof. Jianwei Niu and Prof. William H. Winsborough (deceased). He received his undergraduate education in Computer Science and Engineering (CSE) at the Bangladesh University of Engineering and Technology (BUET).',\n",
              " 'Omkant Pandeyis affiliated with theNational Security Institute. He\\xa0received his PhD from University of California Los Angeles (UCLA)\\u200b.',\n",
              " 'Owen received a Ph.D. in Computer and Information Sciences from the University of Pennsylvania, and he has worked at AT&T Labs — Research, 15 years at Columbia University as a research scientist, and three years at Elemental Cognition LLC, a startup aiming to develop software for deep language understanding. At Columbia, he was part of the Center for Computational Learning Systems. He was co-founder of CADIM, a research group on Arabic natural language processing (NLP), which is licensing state-of-the-art robust NLP tools.',\n",
              " 'Paul Fodor obtained his Ph.D. and M.S. in Computer Science from Stony Brook University in 2011 and 2006, and B.S. in Computer Science from Technical University of Cluj-Napoca in 2002. He also worked at IBM T.J. Watson Research in the team that built the IBM Watson system that played on the Jeopardy! TV quiz show.',\n",
              " 'Peter Milderis an Associate Professor ofElectrical and Computer EngineeringatStony Brook University.',\n",
              " 'Ph.D Computer Science - Pennsylvania State University, 1981',\n",
              " 'Ph.D Computer Science - Stanford University, 1999; B.Tech. Computer Science - Indian Institute of Technology, Bombay, May 1992',\n",
              " 'Philip M. Lewis was a chair of the Computer Science department at the State University of New York at Stony Brook from 1987 to 1996. He is a Professor of Computer Science at the State University of New York at Stony Brook. He received a B.S. in Electrical Engineering from Rensselaer Polytechnic Institute in 1952 and an M.S. and Ph.D. in Electrical Engineering from Massachusetts Institute of Technology in 1954 and 1956. He was an Assistant Professor in the Electrical Engineering Department at MIT from 1956 to 1959. From 1959 to 1987 he was a research scientist and later Manager of Computer Science at the General Electric Research and Development Center in Schenectady, N.Y. He joined the faculty at Stony Brook in 1987.',\n",
              " 'Phillipa Gill is affiliated with the Department of Computer Science at the University of Massachusetts – Amherst. She maintains a relationship with Stony Brook through several research grants. Prior to joining Stony Brook University, Phillipa\\xa0was a postdoctoral fellow at The Citizen Lab in the Munk School of Global Affairs at the University of Toronto where she worked on measuring Internet censorship around the globe. She completed her Ph.D. at the University of Toronto in 2012 and holds an M.Sc. and B.Sc.in Computer Science from the University of Calgary. During her Ph.D., she spent time as a visiting researcher at AT&T Labs–Research, Boston University, and Microsoft Research.',\n",
              " 'Pramod Ganapathi is a Research Assistant Professor in the Department of Computer Science at Stony Brook University (SBU). Prior to joining SBU, he was an Assistant Professor at the Indian Institute of Technology, Indore. Prior to joining IIT, he founded and ran an animation-based online higher education startup called \"Learning is Beautiful\", in India. Prior to founding his startup, he received his Ph.D. in computer science at SBU, specializing in parallel algorithms. His Ph.D. work is entitled \"Automatic Discovery of Efficient Divide-and-Conquer Algorithms for Dynamic Programming Problems\" and was supervised by Prof. Rezaul A. Chowdhury. Before pursuing Ph.D., he was a Software Engineer at IBM India Software Labs.',\n",
              " 'Prateek Prasanna received his Ph.D. in Biomedical Engineering from Case Western Reserve University, M.S. in Electrical and Computer Engineering from Rutgers University, and B.Tech. in Electrical and Electronics Engineering from National Institute of Technology, Calicut, India. Prior to joining Stony Brook University, he was a Research Associate at CWRU and Case School of Medicine, Cleveland. Prasanna’s research has involved developing companion diagnostic tools for thoracic-, neuro-, and breast-imaging applications. The overarching goal of his research is to bridge the gap between human and machine interpretation of biomedical imaging data via techniques such as radiomics, pathomics, deep learning, and multi-modal data fusion. Current research directions include developing quantitative tools to predict lesion growth, discovering imaging markers of disease progression, and identifying prognostic signatures of response to therapy',\n",
              " 'Praveen Tripathi received his Ph.D. in Computer Science in 2016 from University of Texas at Arlington',\n",
              " 'Prior to joining Stony Brook, Dominik Kempa was a postdoctoral scholar at Johns Hopkins University. Before that he was a postdoctoral fellow at the University of California in Berkeley and at the University of Warwick, UK. He received his PhD in Computer Science in 2015 from the University of Helsinki, Finland, with research focusing on the efficient construction of fundamental data structures for string indexing. He received his MS in Computer Science and BS in Mathematics from Jagiellonian University in Krakow, Poland.',\n",
              " 'R. Sekar obtained his Ph.D. in Computer Science from Stony Brook University in 1991 ,and B. Tech in Electrical Engineering from Indian Institute of Technology, Madras in 1986.',\n",
              " 'Radu Grosu is a Professor and Head of the Dependable-Systems Group at the Faculty of Informatics of the Vienna University of Technology, and a Research Professor at the Computer Science Department of the State University of New York at Stony Brook. Grosu earned his Dr.rer.nat. in Computer Science from the Technical University of München, and was a Research Associate in the Computer Science Department of the University of Pennsylvania.',\n",
              " 'Radu Sion \\u200bis affiliated with theNational Security Institute. Heis an Associate Professor of Computer Science at Stony Brook University (on leave). He has also founded and is currently running Private Machines Inc. Radu Sion obtained his Ph.D. in Computer Science from Purdue University in 2004, M.S. and B.S. in Computer Science from “Politehnica\" University of Bucharest in 1999 and 1998, respectively.',\n",
              " 'Rezaul Chowdhury received his Ph.D. from the Department of Computer Sciences, UT Austin, working with Professor Vijaya Ramachandran, and defending \"Cache-efficient Algorithms and Data Structures: Theory and Experimental Evaluation\". Prior to joining SBU in 2011, he was in Boston working with Professor Sandor Vajda\\'s Structural Bioinformatics Group at Boston University, and Professor Charles Leiserson\\'s SuperTech Research Group at MIT. Before moving to Boston, he was a postdoctoral fellow at the Center for Computational Visualization (CVC), Institute for Computational Engineering & Sciences (ICES), University of Texas at Austin. He worked with Professor Chandrajit Bajaj. Chowdhury now leads the Theoretical and Experimental Algorithmics (TEA) Group where they concentrate on both algorithm design and algorithm engineering. He holda a joint appointment with the Institute for Advanced Computational Sciences (IACS).',\n",
              " 'Richard McKenna earned his M.S. in Computer Science from Stony Brook University in 2002, and B.S. in Industrial Engineering from the University of Texas at Arlington in 1996.',\n",
              " 'Ritwik Banerjee\\xa0earned a PhD in computer science from Stony Brook University, where his research focused on stylometry, information extraction from biomedical language, and healthcare informatics. He holds a M.Sc. in computer science and B.Sc. in mathematics and computer science from Chennai Mathematical Institute, India. Before and during his years as a PhD student, he has also worked as a NLP researcher in several successful start ups.',\n",
              " 'Rob Johnson received his Ph.D. in Computer Science from University of California, Berkeley.',\n",
              " 'Robert F. Kelly received his Ph.D. in Computer Science from NYU Courant Institute of Mathematical Sciences in 1991.',\n",
              " 'Rong Zhao holds a Ph.D. in Computer Science from Wayne State University, an MBA from Stony Brook University, and a B.E. degree in Computer Science and Technology from Tsinghua University in China.',\n",
              " 'Samir Das received his Ph.D. in computer science from Georgia Institute of Technology. Earlier, he waseducated atJadavpurUniversity in Kolkata, India, and Indian Institute of Science, Bangalore, India.He also worked briefly in Indian Statistical Institute. Prior to Stony Brook, Das was a faculty member at the University of Texas at San Antonio and then at University of Cincinnati. Das has been at Stony Brook from 2002.',\n",
              " 'Sangjin Hong received his B.S. and M.S. in Electrical Engineering and Computer Science from the University of California at Berkeley and his Ph.D. in Electrical Engineering and Computer Science from the University of Michigan at Ann Arbor. Since then he has been at the Stony Brook University - State University of New York, where he is a Professor of Electrical and Computer Engineering. He has previously worked as a systems engineer at Ford Aerospace and Communications Corp., as a technical consultant at Samsung Electronics Inc., and as a research fellow at the University of Michigan at Ann Arbor.',\n",
              " 'Scott A. Smolka earned his Ph.D. in Computer Science from Brown University in 1984; M.A. and B.A. in Mathematics from Boston University in 1977 and 1975, respectively.',\n",
              " 'Scott Stoller\\xa0is affiliated withNational Security Institute. He received his Ph.D. in Computer Science from Cornell University in 1997 and B.A. in Physics, summa cum laude from Princeton University in 1990.',\n",
              " 'Seung Soo Park received Ph.D degree in Computer Science in University of Texas, Ausin in 1988. He was a research engineer in MCC, Austin briefly before he takes the Assistant Professor job at University of Kansas, Lawrence. He moved to Seoul, Korea in 1991 where he was a professor at Ewha Womans University for 26 years. During his tenure at Ewha Womans University, he served as a department head of the Computer Science Department, as well as a dean of engineering school. He moved to SUNY Korea in 2017.',\n",
              " \"Shan Lin joinedStony Brook\\xa0 Universityas an assistant professor in Aug 2014.Shan Lin\\u200bwas an assistant professor at Temple University since 2010. In May 2010,Shan Lin\\u200breceived my PhD in computer science working under the direction of ProfessorJohn A. Stankovicat theUniversity of Virginia.Shan Lin\\u200b'sPhD dissertation is onTaming Networking Challenges with Feedback Control.Here is myCV.\",\n",
              " 'Shuai Mu received his Ph.D. in computer science in 2015 from Tsinghua University. Prior to joining Stony Brook, Shuai was a post-doctoral researcher and lecturer in New York University.',\n",
              " 'Shubham Jain received her PhD from WINLAB at Rutgers University in 2017, under the supervision of Dr. Marco Gruteser.',\n",
              " \"Stanley Bak received a Bachelor's degree in Computer Science from Rensselaer Polytechnic Institute (RPI) in 2007 (summa cum laude), and a Master's degree in Computer Science from the University of Illinois at Urbana-Champaign (UIUC) in 2009. He completed his PhD from the Department of Computer Science at UIUC in 2013. He received the Founders Award of Excellence for his undergraduate research at RPI in 2004, the Debra and Ira Cohen Graduate Fellowship from UIUC twice, in 2008 and 2009, and was awarded the Science, Mathematics and Research for Transformation (SMART) Scholarship from 2009 to 2013. From 2013 to 2018, Stanley was a Research Computer Scientist at the US Air Force Research Lab (AFRL), both in the Information Directorate in Rome, NY, and in the Aerospace Systems Directorate in Dayton, OH. He helped run Safe Sky Analytics, a research consulting company investigating verification and autonomous systems, and performed teaching at Georgetown University before joining Stony Brook University as an assistant professor in Fall 2020.\",\n",
              " 'Steven Skiena is Distinguished Teaching Professor of Computer Science at Stony Brook University. His research interests include the design of graph, string, and geometric algorithms, and their applications (particularly to biology). He is the author of five books, including \"The Algorithm Design Manual\" and \"Calculated Bets: Computers, Gambling, and Mathematical Modeling to Win\". He is co-founder and Chief Scientist at General Sentiment (www.generalsentiment.com), a media measurement company based on his Lydia text/sentiment analysis system.Skiena received his Ph.D. in Computer Science from the University of Illinois in 1988, and the author of over 130 technical papers.',\n",
              " 'Supartha Podder earned a PhD in computer science from the Centre for Quantum Technologies, National University of Singapore. He holds masters in computer science from École Normale Supérieure de Cachan (ENS de Cachan) and Chennai Mathematical Institute (CMI). Prior to joining Stony Brook, Podder was a postdoc at the University of Ottawa and at UT Austin.COMMUNITY OUTREACHPodder and some undergrad colleagues run a charity (AALO) which helps underprivileged students in India.',\n",
              " 'Susan Brennan received her Ph.D. in Psychology (specializing in Psycholinguistics and Cognitive Science) from Stanford University in 1990, M.S.V.S., Architecture Machine Group (now known as The MIT Media Lab ) from Massachusetts Institute of Technology, Cambridge, MA in 1982, and B.A. in Anthropology from Cornell University, Ithaca, NY in 1975.',\n",
              " 'Tahsin Kurc received his Ph.D. in computer science from Bilkent University, Turkey, in 1997 and his B.S. in electrical and electronics engineering from Middle East Technical University, Turkey, in 1989. He was a Postdoctoral Research Associate at the University of Maryland from 1997 to 2000. Before coming to Emory, he was a Research Assistant Professor in the Biomedical Informatics Department at the Ohio State University.Dr. Kurc is a Research Associate Professor in the Department of Biomedical Informatics.',\n",
              " 'Theo Pavlidis was born and grew up in Greece, graduating from the National Technical University of Athens in 1957. He came to the United States in 1961 and received a Ph.D. in Electrical Engineering from the University of California at Berkeley in 1964. He was on the faculty of Princeton University during 1964-80, a member of the technical staff at AT&T Bell Labs during 1980-86 and on the faculty of the State University of New York at Stony Brook during 1986-2001. During 2001-2002 he was chief computer scientist of Symbol Technologies.',\n",
              " 'Tony Scarlatosis the Director of theMultimedia Lab\\u200b. Hereceived his MA from Adelphi University in 1995 and BFA from Pratt Institute in 1982.',\n",
              " 'Tuncay Tekle received his PhD in Computer Science from Stony Brook University in 2010',\n",
              " 'Wei Xu received her Ph.D. degree from Department of Computer Science at Stony Brook University in 2012 and M.S. and B.S. in Computer Science from Zhejiang University. She is also a staff scientist at Computational Science Initiative of Brookhaven National Laboratory since 2013.',\n",
              " 'Wei Zhu earned her Ph.D. in Biostatistics and Ph.D. minor in Epidemiology from University of California, Los Angeles (UCLA) in 1996, M.S. in Statistics from University of Illinois, Chicago (UIC) in 1992, and B.S. in Mathematics from East China Normal University, Shanghai (ECNU) in 1989.',\n",
              " 'XiangminJiao received his B.S. in 1995 from Peking University, China, his M.S. in 1997 from University of California Santa Barbara, and his Ph.D. in computer science in 2001 from University of Illinois at Urbana-Champaign (UIUC). After working in interdisciplinary research for a few years as a Research Scientist at the Center for Simulation of Advanced Rockets (CSAR) at UIUC and then a Visiting Assistant Professor in College of Computing at Georgia Institute of Technology, he joined the faculty of Stony Brook University in Fall 2007. He is now an Associate Professor in the Department of Applied Mathematics and Statistics and is affiliated with the Computer Science Department and the Institute for Advanced Computational Science (formerly the New York Center of Computational Science).',\n",
              " \"Xiaojun Bi is an Associate Professor in the Department of Computer Science at Stony Brook University. Prior to joining Stony Brook, he was a Research Scientist at Google LLC. in California. Xiaojun Bi earned his Ph.D. from the Department of Computer Science at the University of Toronto, working with Ravin Balakrishnan. He received his Master's degree in Computer Science, and Bachelor's degree in Automation both from Tsinghua University.\",\n",
              " 'Xin Wang is currently an associate professor of the department of Electrical and Computer Engineering. Prior to joining the department, she was an assistant professor in the department of computer science and engineering of SUNY at Buffalo between 2003 and 2005, and was a Member of Technical Staff in the area of mobile and wireless networking at Bell Labs Research, Lucent Technologies, New Jersey between 2001 and 2003. She received the BS and MS degrees in telecommunications engineering and wireless communications engineering from Beijing University of Posts and Telecommunications, Beijing, China, respectively, and the PhD degree in electrical engineering from Columbia University, New York, NY.',\n",
              " 'Yifan Sun received her PhD in Electrical Engineering from UCLA in 2015, with research focusing on convex optimization and semidefinite programming. She then worked at Technicolor Research and Innovation, focusing on machine learning and data science applications. More recently, she was a postdoctorate researcher at the University of British Columbia in Vancouver, Canada and L’Institut National de Recherche en Informatique et Automatique (INRIA) in Paris, France.',\n",
              " 'YoungMin Kwon received his Ph.D. in Computer Science from University of Illinois at Urbana-Champaign in 2006, M.E. degree in Mechatronics from Korea University in 1998, and B.E. degree in Electrical Engineering from Korea University in 1996. He was at Microsoft corporation as a software engineer from 2006 to 2016 and joined SUNY Korea as an associate professor in 2016.',\n",
              " 'Yuanyuan Yang received the B.E. and M.S. degrees in computer science and engineering from Tsinghua University, Beijing, China, and the M.S. and Ph.D. degrees in computer science from Johns Hopkins University ,Baltimore, Maryland. Dr. Yang is a Professor and Graduate Program Director of Department of Electrical & Computer Engineering, a Professor of Department of Computer Science, the Director of Communications & Devices Division of New York State Center of Excellence in Wireless and Information Technology (CEWIT) , and the Director of High-Performance Computing and Networking Research Lab at Stony Brook University. Prior to joining Stony Brook in 1999, she had held a tenured faculty position at University of Vermont.',\n",
              " 'Zhaozheng\\xa0obtained his Ph.D. in Computer Science and Engineering from Pennsylvania State University in 2009, and received his Master and Bachelor degrees in Electrical and Computer Engineering from University of Wisconsin-Madison and Automation from Tsinghua University, respectively. He also worked as a Postdoctoral Fellow in the Robotics Institute of Carnegie Mellon University during 2009-2011.',\n",
              " 'Zhenhua Liu is currently assistant professor in the Department of Applied Mathematics and Statistics, also affiliated with Department of Computer Science and Smart Energy Technology Cluster, since August 2014. During the year 2014-2015, he is on leave for the ITRI-Rosenfeld Fellowship in the Energy and Environmental Technology Division at Lawrence Berkeley National Laboratory. Dr. Liu received his Ph.D. degree in Computer Science at the California Institute of Technology, where he was co-advised by Prof. Adam Wierman and Prof. Steven Low. Before Caltech, he received an M.S. degree of Computer Science & Technology in 2009 and a B.E. degree of Measurement & control in 2006, both from Tsinghua University with honor, as well as a B.S. degree of Economics from Peking University in 2009.'}"
            ]
          },
          "metadata": {},
          "execution_count": 29
        }
      ]
    },
    {
      "cell_type": "code",
      "source": [
        "courses"
      ],
      "metadata": {
        "colab": {
          "base_uri": "https://localhost:8080/"
        },
        "id": "G2JUKyN_vUu3",
        "outputId": "2ccc6b8e-c18e-44ed-f907-496e929bea17"
      },
      "execution_count": 23,
      "outputs": [
        {
          "output_type": "execute_result",
          "data": {
            "text/plain": [
              "[('Stanley Bak', None),\n",
              " ('Aruna Balasubramanian', 'CSE 692'),\n",
              " ('Niranjan Balasubramanian', 'CSE 628'),\n",
              " ('Ritwik Banerjee', None),\n",
              " ('Michael Bender',\n",
              "  'CSE 150, CSE 303, CSE 350, CSE 373, CSE 385, CSE 495/496, CSE 548, CSE 638, CSE 642'),\n",
              " ('Xiaojun Bi',\n",
              "  'CSE 518 Foundations of Human Computer Interaction, CSE/ISE/EST 323 Human Computer Interaction'),\n",
              " ('Barbara Chapman', None),\n",
              " ('Omar Chowdhury', None),\n",
              " ('Rezaul Chowdhury', 'CSE 548, CSE 590, CSE 613, CSE 638, CSE 642'),\n",
              " ('Samir R. Das',\n",
              "  'CSE 570 (usually in Fall semesters), occasionally CSE 534, CSE 370 and CSE 310'),\n",
              " ('Ahmad Esmaili',\n",
              "  'ISE 102, ISE 215, CSE 102, CSE 110, CSE 113, CSE 114, CSE 130, CSE 214, CSE 215, CSE 219, CSE 230, CSE 302, CSE 311, HON 111, ITS 102, ISE 302, ISE 305, ISE 311, ISE 321, CSE390 (Mobile App Development)'),\n",
              " ('Michael Ferdman', 'CSE 502, CSE 602, CSE 506'),\n",
              " ('Paul Fodor',\n",
              "  'CSE 114, CSE 215, CSE 219, CSE 260, CSE 305, CSE 307, CSE 312, CSE 371, CSE 392, CSE 532, CSE 505, CSE 645, HON 111, ITS 102.'),\n",
              " ('Pramod Ganapathi',\n",
              "  'SBU 102, CSE/ISE 102, CSE 214, CSE 215, CSE 303, CSE 350, CSE 373, CSE 582, CSE 595 (Algorithmic Problem-Solving)'),\n",
              " ('Anshul Gandhi', \"CSE 691 (Fall'14): Energy-efficient computing\"),\n",
              " ('Xianfeng Gu',\n",
              "  'CSE 326, CSE328, CSE528, CSE 529/AMS553, CSE 564, CSE 590, CSE 595, CSE 618, CSE 648'),\n",
              " ('Himanshu Gupta', 'CSE 215, 305, 373, 532'),\n",
              " ('Jalaa Hoblos', None),\n",
              " ('Shubham Jain', None),\n",
              " ('Christopher Kane', None),\n",
              " ('Arie Kaufman',\n",
              "  'CSE 566, CSE 328, CSE 332, CSE 523, CSE 524, CSE528, CSE 564, CSE 600, CSE 664, CSE 684'),\n",
              " ('Robert F. Kelly',\n",
              "  'CSE 106, ISE 108, CSE 114, ISE 218, ISE 305, CSE 308, CSE/ISE 312, ISE 320, ISE 331, CSE 333, CSE 336, ISE369/POL369, CSE416'),\n",
              " ('Dominik Kempa', None),\n",
              " ('Michael Kifer', 'CSE 305, CSE 306, CSE 532, CSE 632, CSE 674'),\n",
              " ('Dongyoon Lee', None),\n",
              " ('Haibin Ling', 'coming soon...'),\n",
              " ('Y. Annie Liu',\n",
              "  'CSE 215, CSE/ISE 305, CSE 307, CSE/ISE 308, CSE/ISE 315, CSE 352, CSE/MAT 373, CSE 391, CSE 392, CSE 393, CSE 526, CSE 532, CSE 535, CSE 591, CSE 592, CSE 614, CSE 626, CSE 645, CSE 667, CSE 675, CSE 690, ITS 102.'),\n",
              " ('Kevin McDonnell', 'CSE 101, CSE 114, CSE 215, CSE 220, CSE 564'),\n",
              " ('Richard McKenna',\n",
              "  'CSE 101, CSE 102, CSE 114, CSE 214, CSE 219, CSE 220, CSE 300, CSE 301, CSE 308, CSE 333, CSE 380, CSE 381, CSE 390, ISE 208, ISE 390, ITS 102'),\n",
              " ('Joydeep Mitra', None),\n",
              " ('Shuai Mu', 'CSE 535'),\n",
              " ('Klaus Mueller',\n",
              "  'CSE 323, CSE 332, CSE 337, CSE 523, CSE 524, CSE 564, CSE 577, CSE 612, CSE 648, CSE 690'),\n",
              " ('Minh Hoai Nguyen',\n",
              "  'Video Analysis (CSE 594), Introductions to Robotics (CSE 525)'),\n",
              " ('Nick Nikiforakis', 'CSE 508, CSE 509, CSE 361'),\n",
              " ('Omkant Pandey', None),\n",
              " ('Supartha Podder',\n",
              "  'In the Spring 2022, Podder will teach a graduate course in Quantum computing at Stony Brook. Previously, at the University of Ottawa, he taught Linear Algebra, and Discrete Mathematics'),\n",
              " ('Michalis Polychronakis', 'CSE508'),\n",
              " ('Hong Qin', 'CSE 328, CSE 523, CSE 524, CSE 530, CSE 621, CSE 665'),\n",
              " ('Amir Rahmati', None),\n",
              " ('C.R. Ramakrishnan',\n",
              "  'CSE 219, CSE 304, CSE 307, CSE 505, CSE 526, CSE 637, CSE 645, CSE 651, CSE 653, CSE 655, CSE 675.02, CSE 691'),\n",
              " ('I.V. Ramakrishnan', 'CSE 352, CSE 537'),\n",
              " ('Michael Ryoo', None),\n",
              " ('Dimitris Samaras',\n",
              "  'CSE 327/ESE 358, CSE 378/525, CSE 390, CSE 523/524, CSE 527/627, CSE 592, CSE 601/ESE 559, CSE 615, CSE 656, CSE 681'),\n",
              " ('Tony Scarlatos', 'CSE 334, CSE 364, CSE 392'),\n",
              " ('H. Andrew Schwartz', None),\n",
              " ('R. Sekar',\n",
              "  'CSE 304, CSE 307, CSE 408, CSE 504, CSE 508, CSE 509, CSE 548, CSE 608'),\n",
              " ('Radu Sion',\n",
              "  'CSE 408/508, CSE 409/509, CSE 594, CSE 659, CSE 661, CSE 684, CSE 690'),\n",
              " ('Steven Skiena',\n",
              "  'CSE 101, CSE 113, CSE 214, CSE 373, CSE 392, CSE 547, CSE 548, CSE 549, CSE 642, CSE 648, CSE 652, CSE 691'),\n",
              " ('Scott Smolka',\n",
              "  'CSE/ISE 305, CSE 306, CSE 523, CSE 524, CSE 532, CSE 635, CSE 643, CSE 653, CSE 673'),\n",
              " ('Eugene Stark',\n",
              "  'CSE 160, CSE 260, CSE 219, CSE 220, CSE 230, CSE 306, CSE 307, CSE 523, CSE 526, CSE 540'),\n",
              " ('Scott Stoller', 'CSE 308, CSE 594, ITS 102'),\n",
              " ('Yifan Sun', 'CSE 512 (Fall 2020)'),\n",
              " ('Allen Tannenbaum', None),\n",
              " ('Praveen Tripathi', None),\n",
              " ('Fusheng Wang', None),\n",
              " ('Anita Wasilewska',\n",
              "  'CSE 303, CSE 541, CSE 547, CSE 352, CSE 371, CSE 634, CSE 651'),\n",
              " ('Zhaozheng Yin', None),\n",
              " ('Nengkun Yu', None),\n",
              " ('Erez Zadok', 'CSE 306, CSE 376, CSE 506, CSE 595'),\n",
              " ('Yevgen Borodin', 'N/A'),\n",
              " ('Jing Chen', 'CSE 540, CSE/AMS 547'),\n",
              " ('Jie Gao', 'CSE 548, CSE 642'),\n",
              " ('Phillipa Gill', 'CSE 592'),\n",
              " ('Radu Grosu',\n",
              "  'CSE 304, CSE 305, CSE 307, CSE 315, CSE 504, CSE 510, CSE 515, CSE 625, CSE 637, CSE 643, CSE 657'),\n",
              " ('Rob Johnson',\n",
              "  'CSE 150, CSE 408/508, CSE 409/509, CSE 548, CSE 608, CSE 690'),\n",
              " ('Byungkon Kang', 'CSE 353, CSE 512'),\n",
              " ('Ayush Kumar', None),\n",
              " ('YoungMin Kwon', '@SUNY Korea: CSE504'),\n",
              " ('Arthur Lee',\n",
              "  'As a new comer, he will start teaching the following at SUNY      Korea in the coming years: CSE 114, CSE 214, CSE 305, CSE 307, CSE 336, CSE 526, CSE 532, CSE 590.'),\n",
              " ('Joseph Marino', None),\n",
              " ('Francesco Orabona', None),\n",
              " ('Seung Soo Park', 'CSE 352, CSE 537'),\n",
              " ('Martin Radfar', 'CSE215, CSE310, CSE391'),\n",
              " ('Jihoon Ryoo', 'CSE373'),\n",
              " ('Adam C. Siepel', None),\n",
              " ('Alexander Spirov', 'N/A'),\n",
              " ('Tuncay Tekle', None),\n",
              " ('Dennis Wong', '@SUNY Korea: CSE215'),\n",
              " ('Jennifer Wong-Ma',\n",
              "  'CSE 220, CSE 300, CSE 306, CSE 312, CSE 320, CSE 591, CSE 592, CSE 594, CSE 651, CSE 658, CSE 690, ITS 102'),\n",
              " ('Wei Xu', None),\n",
              " ('Esther Arkin', 'AMS 301, AMS 341, AMS 540, AMS 546, MBA 540, MBA 546.'),\n",
              " ('Susan Brennan', 'PSY 260, PSY 365, PSY 384, PSY 520'),\n",
              " ('Nilanjan Chakraborty', None),\n",
              " ('Chao Chen', None),\n",
              " ('Sangjin Hong', 'ESE 356/501, ESE 575'),\n",
              " ('Chuan Huang', None),\n",
              " ('Xiangmin Jiao', 'AMS 261, AMS 527'),\n",
              " ('Dima Kozakov', None),\n",
              " ('Tahsin M. Kurc', None),\n",
              " ('Shan Lin', 'ESE 543, ESE 343, ESE 670, CIS 2139, CIS 4350, CIS 8542'),\n",
              " ('Zhenhua Liu', None),\n",
              " ('Christian Luhmann', None),\n",
              " ('Peter Milder', None),\n",
              " ('Joseph S.B. Mitchell', 'CSE 555, AMS 545, AMS 300, AMS 311'),\n",
              " ('Prateek Prasanna', None),\n",
              " ('Owen Rambow', 'LIN 120'),\n",
              " ('Joel Saltz',\n",
              "  'Stony Brook Medicine: CS 595 Topics in Computer Science:  Data Analytics Software - Stacks At Emory, Georgia Tech, Ohio State and U Maryland: Graduate seminars in Data Analytics, Graduate seminars in High Performance Computing'),\n",
              " ('Lori Scarlatos',\n",
              "  'CSE/EST 323, EST 570, EST 579, EST 573, EST 565, EST 574, EST 578, EST 310, ISE 340'),\n",
              " ('Margaret Schedel', None),\n",
              " ('Xin Wang', 'ESE 506'),\n",
              " ('Susu Xu', None),\n",
              " ('Yuanyuan Yang', 'ESE 124, ESE 333, ESE 536/CSE 626, ESE 670'),\n",
              " ('Fan Ye', None),\n",
              " ('Gregory Zelinsky', 'N/A'),\n",
              " ('Peng Zhang', None),\n",
              " ('Rong Zhao',\n",
              "  'CSE 308, CSE 333, CSE 500, CSE 523/524, ISE 320, ISE 504, ITS 102, MBA 511, MBA 588, EMP 509, EST 582'),\n",
              " ('Wei Zhu', 'AMS 312, AMS 572.'),\n",
              " ('Leo Bachmair', 'CSE 215, CSE 303, CSE 350, CSE 541'),\n",
              " ('Hussein Badr', 'CSE 220, CSE/ISE 310, CSE 529, CSE 533'),\n",
              " ('Arthur Bernstein', 'N/A'),\n",
              " ('David Ferguson',\n",
              "  'David Ferguson teaches courses in educational technology and decision making.'),\n",
              " ('Herbert Gelernter', None),\n",
              " ('Jack Heller', 'N/A'),\n",
              " ('Ker-I Ko', 'CSE 303, CSE 540, CSE 548'),\n",
              " ('Philip Lewis', 'CSE/ISE 300, CSE/ISE 308, CSE/ISE 315'),\n",
              " ('Theo Pavlidis', 'ITS 102'),\n",
              " ('David Smith', 'N/A'),\n",
              " ('David Warren', 'CSE 505'),\n",
              " ('Larry Wittie',\n",
              "  'CSE 230, CSE 300, CSE 320, CSE 502, CSE 511, CSE 523, CSE 524, CSE 613')]"
            ]
          },
          "metadata": {},
          "execution_count": 23
        }
      ]
    },
    {
      "cell_type": "code",
      "source": [
        "bio_url"
      ],
      "metadata": {
        "colab": {
          "base_uri": "https://localhost:8080/"
        },
        "id": "w2iHIEr2vaEP",
        "outputId": "2e34db3c-5500-4db4-d87c-3b3a73fe338f"
      },
      "execution_count": 24,
      "outputs": [
        {
          "output_type": "execute_result",
          "data": {
            "text/plain": [
              "['https://www.cs.stonybrook.edu/people/faculty/StanleyBak',\n",
              " 'https://www.cs.stonybrook.edu/people/faculty/ArunaBalasubramanian',\n",
              " 'https://www.cs.stonybrook.edu/people/faculty/NiranjanBalasubramanian',\n",
              " 'https://www.cs.stonybrook.edu/people/faculty/RitwikBanerjee',\n",
              " 'https://www.cs.stonybrook.edu/people/faculty/MichaelBender',\n",
              " 'https://www.cs.stonybrook.edu/people/faculty/XiaojunBi',\n",
              " 'https://www.cs.stonybrook.edu/people/faculty/BarbaraChapman',\n",
              " 'https://www.cs.stonybrook.edu/people/faculty/OmarChowdhury',\n",
              " 'https://www.cs.stonybrook.edu/people/faculty/RezaulChowdhury',\n",
              " 'https://www.cs.stonybrook.edu/people/faculty/SamirDas',\n",
              " 'https://www.cs.stonybrook.edu/people/faculty/AhmadEsmaili',\n",
              " 'https://www.cs.stonybrook.edu/people/faculty/MichaelFerdman',\n",
              " 'https://www.cs.stonybrook.edu/people/faculty/PaulFodor',\n",
              " 'https://www.cs.stonybrook.edu/people/faculty/PramodGanapathi',\n",
              " 'https://www.cs.stonybrook.edu/people/faculty/AnshulGandhi',\n",
              " 'https://www.cs.stonybrook.edu/people/faculty/XianfengGu',\n",
              " 'https://www.cs.stonybrook.edu/people/faculty/HimanshuGupta',\n",
              " 'https://www.cs.stonybrook.edu/people/faculty/JalaaHoblos',\n",
              " 'https://www.cs.stonybrook.edu/people/faculty/ShubhamJain',\n",
              " 'https://www.cs.stonybrook.edu/people/faculty/ChristopherKane',\n",
              " 'https://www.cs.stonybrook.edu/people/faculty/ArieKaufman',\n",
              " 'https://www.cs.stonybrook.edu/people/faculty/RobertKelly',\n",
              " 'https://www.cs.stonybrook.edu/people/faculty/DominikKempa',\n",
              " 'https://www.cs.stonybrook.edu/people/faculty/MichaelKifer',\n",
              " 'https://www.cs.stonybrook.edu/people/faculty/DongyoonLee',\n",
              " 'https://www.cs.stonybrook.edu/people/faculty/HaibinLing',\n",
              " 'https://www.cs.stonybrook.edu/people/faculty/AnnieLiu',\n",
              " 'https://www.cs.stonybrook.edu/people/faculty/KevinMcDonnell',\n",
              " 'https://www.cs.stonybrook.edu/people/faculty/RichardMcKenna',\n",
              " 'https://www.cs.stonybrook.edu/people/faculty/JoydeepMitra',\n",
              " 'https://www.cs.stonybrook.edu/people/faculty/ShuaiMu',\n",
              " 'https://www.cs.stonybrook.edu/people/faculty/KlausMueller',\n",
              " 'https://www.cs.stonybrook.edu/people/faculty/Minh-HoaiNguyen',\n",
              " 'https://www.cs.stonybrook.edu/people/faculty/NickNikiforakis',\n",
              " 'https://www.cs.stonybrook.edu/people/faculty/OmkantPandey',\n",
              " 'https://www.cs.stonybrook.edu/people/faculty/SuparthaPodder',\n",
              " 'https://www.cs.stonybrook.edu/people/faculty/MichalisPolychronakis',\n",
              " 'https://www.cs.stonybrook.edu/people/faculty/HongQin',\n",
              " 'https://www.cs.stonybrook.edu/people/faculty/AmirRahmati',\n",
              " 'https://www.cs.stonybrook.edu/people/faculty/CRRamakrishnan',\n",
              " 'https://www.cs.stonybrook.edu/people/faculty/IVRamakrishnan',\n",
              " 'https://www.cs.stonybrook.edu/people/faculty/MichaelRyoo',\n",
              " 'https://www.cs.stonybrook.edu/people/faculty/DimitrisSamaras',\n",
              " 'https://www.cs.stonybrook.edu/people/faculty/TonyScarlatos',\n",
              " 'https://www.cs.stonybrook.edu/people/faculty/H.%20AndrewSchwartz',\n",
              " 'https://www.cs.stonybrook.edu/people/faculty/RSekar',\n",
              " 'https://www.cs.stonybrook.edu/people/faculty/RaduSion',\n",
              " 'https://www.cs.stonybrook.edu/people/faculty/StevenSkiena',\n",
              " 'https://www.cs.stonybrook.edu/people/faculty/ScottSmolka',\n",
              " 'https://www.cs.stonybrook.edu/people/faculty/EugeneStark',\n",
              " 'https://www.cs.stonybrook.edu/people/faculty/ScottStoller',\n",
              " 'https://www.cs.stonybrook.edu/people/faculty/YifanSun',\n",
              " 'https://www.cs.stonybrook.edu/people/faculty/AllenTannenbaum',\n",
              " 'https://www.cs.stonybrook.edu/people/faculty/PraveenTripathi',\n",
              " 'https://www.cs.stonybrook.edu/people/faculty/FushengWang',\n",
              " 'https://www.cs.stonybrook.edu/people/faculty/AnitaWasilewska',\n",
              " 'https://www.cs.stonybrook.edu/people/faculty/ZhaozhengYin',\n",
              " 'https://www.cs.stonybrook.edu/people/faculty/NengkunYu',\n",
              " 'https://www.cs.stonybrook.edu/people/faculty/ErezZadok',\n",
              " 'https://www.cs.stonybrook.edu/people/faculty/YevgenBorodin',\n",
              " 'https://www.cs.stonybrook.edu/people/faculty/JingChen',\n",
              " 'https://www.cs.stonybrook.edu/people/faculty/JieGao',\n",
              " 'https://www.cs.stonybrook.edu/people/faculty/PhillipaGill',\n",
              " 'https://www.cs.stonybrook.edu/people/faculty/RaduGrosu',\n",
              " 'https://www.cs.stonybrook.edu/people/faculty/RobJohnson',\n",
              " 'https://www.cs.stonybrook.edu/people/faculty/ByungkonKang',\n",
              " 'https://www.cs.stonybrook.edu/people/faculty/AyushKumar',\n",
              " 'https://www.cs.stonybrook.edu/people/faculty/YoungMinKwon',\n",
              " 'https://www.cs.stonybrook.edu/people/faculty/ArthurLee',\n",
              " 'https://www.cs.stonybrook.edu/people/faculty/JosephMarino',\n",
              " 'https://www.cs.stonybrook.edu/people/faculty/FrancescoOrabona',\n",
              " 'https://www.cs.stonybrook.edu/people/faculty/Seung-SooPark',\n",
              " 'https://www.cs.stonybrook.edu/people/faculty/MartinRadfar',\n",
              " 'https://www.cs.stonybrook.edu/people/faculty/JihoonRyoo',\n",
              " 'https://www.cs.stonybrook.edu/people/faculty/AdamSiepel',\n",
              " 'https://www.cs.stonybrook.edu/people/faculty/AlexanderSpirov',\n",
              " 'https://www.cs.stonybrook.edu/people/faculty/TuncayTekle',\n",
              " 'https://www.cs.stonybrook.edu/people/faculty/DennisWong',\n",
              " 'https://www.cs.stonybrook.edu/people/faculty/JenniferWong',\n",
              " 'https://www.cs.stonybrook.edu/people/faculty/WeiXu',\n",
              " 'https://www.cs.stonybrook.edu/people/faculty/EstherArkin',\n",
              " 'https://www.cs.stonybrook.edu/people/faculty/SusanBrennan',\n",
              " 'https://www.cs.stonybrook.edu/people/faculty/NilanjanChakraborty',\n",
              " 'https://www.cs.stonybrook.edu/people/faculty/ChaoChen',\n",
              " 'https://www.cs.stonybrook.edu/people/faculty/SangjinHong',\n",
              " 'https://www.cs.stonybrook.edu/people/faculty/ChuanHuang',\n",
              " 'https://www.cs.stonybrook.edu/people/faculty/XiangminJiao',\n",
              " 'https://www.cs.stonybrook.edu/people/faculty/DimaKozakov',\n",
              " 'https://www.cs.stonybrook.edu/people/faculty/TahsinKurc',\n",
              " 'https://www.cs.stonybrook.edu/people/faculty/ShanLin',\n",
              " 'https://www.cs.stonybrook.edu/people/faculty/ZhenhuaLiu',\n",
              " 'https://www.cs.stonybrook.edu/people/faculty/ChristianLuhmann',\n",
              " 'https://www.cs.stonybrook.edu/people/faculty/PeterMilder',\n",
              " 'https://www.cs.stonybrook.edu/people/faculty/JosephMitchell',\n",
              " 'https://www.cs.stonybrook.edu/people/faculty/PrateekPrasanna',\n",
              " 'https://www.cs.stonybrook.edu/people/faculty/OwenRambow',\n",
              " 'https://www.cs.stonybrook.edu/people/faculty/JoelSaltz',\n",
              " 'https://www.cs.stonybrook.edu/people/faculty/LoriScarlatos',\n",
              " 'https://www.cs.stonybrook.edu/people/faculty/MargaretSchedel',\n",
              " 'https://www.cs.stonybrook.edu/people/faculty/XinWang',\n",
              " 'https://www.cs.stonybrook.edu/people/faculty/SusuXu',\n",
              " 'https://www.cs.stonybrook.edu/people/faculty/YuanyuanYang',\n",
              " 'https://www.cs.stonybrook.edu/people/faculty/FanYe',\n",
              " 'https://www.cs.stonybrook.edu/people/faculty/GregoryZelinsky',\n",
              " 'https://www.cs.stonybrook.edu/people/faculty/PengZhang',\n",
              " 'https://www.cs.stonybrook.edu/people/faculty/RongZhao',\n",
              " 'https://www.cs.stonybrook.edu/people/faculty/WeiZhu',\n",
              " 'https://www.cs.stonybrook.edu/people/faculty/LeoBachmair',\n",
              " 'https://www.cs.stonybrook.edu/people/faculty/HusseinBadr',\n",
              " 'https://www.cs.stonybrook.edu/people/faculty/ArthurBernstein',\n",
              " 'https://www.cs.stonybrook.edu/people/faculty/DavidFerguson',\n",
              " 'https://www.cs.stonybrook.edu/people/faculty/HerbertGelernter',\n",
              " 'https://www.cs.stonybrook.edu/people/faculty/JackHeller',\n",
              " 'https://www.cs.stonybrook.edu/people/faculty/Ker-IKo',\n",
              " 'https://www.cs.stonybrook.edu/people/faculty/PhilipLewis',\n",
              " 'https://www.cs.stonybrook.edu/people/faculty/TheoPavlidis',\n",
              " 'https://www.cs.stonybrook.edu/people/faculty/DavidSmith',\n",
              " 'https://www.cs.stonybrook.edu/people/faculty/DavidWarren',\n",
              " 'https://www.cs.stonybrook.edu/people/faculty/LarryWittie']"
            ]
          },
          "metadata": {},
          "execution_count": 24
        }
      ]
    }
  ]
}